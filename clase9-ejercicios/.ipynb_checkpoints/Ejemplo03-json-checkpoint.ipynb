{
 "cells": [
  {
   "cell_type": "code",
   "execution_count": 1,
   "metadata": {},
   "outputs": [],
   "source": [
    "import pandas as pd\n",
    "import sys\n",
    "import datetime as dt\n",
    "import numpy as np\n",
    "import matplotlib.pyplot as plt\n",
    "import matplotlib\n",
    "from pandas.tools.plotting import radviz\n",
    "import scipy as sp                  # Importamos scipy como el alias sp\n",
    "\n",
    "\n",
    "%matplotlib inline\n"
   ]
  },
  {
   "cell_type": "code",
   "execution_count": 2,
   "metadata": {},
   "outputs": [
    {
     "name": "stdout",
     "output_type": "stream",
     "text": [
      "\u001b[0m\u001b[01;32mEjemplo2-Pandas-Matplotlib.ipynb\u001b[0m*\r\n"
     ]
    }
   ],
   "source": [
    "ls"
   ]
  },
  {
   "cell_type": "code",
   "execution_count": 3,
   "metadata": {},
   "outputs": [
    {
     "name": "stdout",
     "output_type": "stream",
     "text": [
      "[1.3, 4, 0.6, -1]\n",
      "[-4.00000000e+00 -3.95000000e+00 -3.90000000e+00 -3.85000000e+00\n",
      " -3.80000000e+00 -3.75000000e+00 -3.70000000e+00 -3.65000000e+00\n",
      " -3.60000000e+00 -3.55000000e+00 -3.50000000e+00 -3.45000000e+00\n",
      " -3.40000000e+00 -3.35000000e+00 -3.30000000e+00 -3.25000000e+00\n",
      " -3.20000000e+00 -3.15000000e+00 -3.10000000e+00 -3.05000000e+00\n",
      " -3.00000000e+00 -2.95000000e+00 -2.90000000e+00 -2.85000000e+00\n",
      " -2.80000000e+00 -2.75000000e+00 -2.70000000e+00 -2.65000000e+00\n",
      " -2.60000000e+00 -2.55000000e+00 -2.50000000e+00 -2.45000000e+00\n",
      " -2.40000000e+00 -2.35000000e+00 -2.30000000e+00 -2.25000000e+00\n",
      " -2.20000000e+00 -2.15000000e+00 -2.10000000e+00 -2.05000000e+00\n",
      " -2.00000000e+00 -1.95000000e+00 -1.90000000e+00 -1.85000000e+00\n",
      " -1.80000000e+00 -1.75000000e+00 -1.70000000e+00 -1.65000000e+00\n",
      " -1.60000000e+00 -1.55000000e+00 -1.50000000e+00 -1.45000000e+00\n",
      " -1.40000000e+00 -1.35000000e+00 -1.30000000e+00 -1.25000000e+00\n",
      " -1.20000000e+00 -1.15000000e+00 -1.10000000e+00 -1.05000000e+00\n",
      " -1.00000000e+00 -9.50000000e-01 -9.00000000e-01 -8.50000000e-01\n",
      " -8.00000000e-01 -7.50000000e-01 -7.00000000e-01 -6.50000000e-01\n",
      " -6.00000000e-01 -5.50000000e-01 -5.00000000e-01 -4.50000000e-01\n",
      " -4.00000000e-01 -3.50000000e-01 -3.00000000e-01 -2.50000000e-01\n",
      " -2.00000000e-01 -1.50000000e-01 -1.00000000e-01 -5.00000000e-02\n",
      " -1.42108547e-14  5.00000000e-02  1.00000000e-01  1.50000000e-01\n",
      "  2.00000000e-01  2.50000000e-01  3.00000000e-01  3.50000000e-01\n",
      "  4.00000000e-01  4.50000000e-01  5.00000000e-01  5.50000000e-01\n",
      "  6.00000000e-01  6.50000000e-01  7.00000000e-01  7.50000000e-01\n",
      "  8.00000000e-01  8.50000000e-01  9.00000000e-01  9.50000000e-01]\n"
     ]
    }
   ],
   "source": [
    "polinomio = [1.3,4,.6,-1]   # polinomio = 1.3 x^3 + 4 x^2 + 0.6 x - 1\n",
    "x = sp.arange(-4,1,.05)\n",
    "print(polinomio)\n",
    "print(x)"
   ]
  },
  {
   "cell_type": "code",
   "execution_count": 4,
   "metadata": {},
   "outputs": [],
   "source": [
    "y = sp.polyval(polinomio,x)\n"
   ]
  },
  {
   "cell_type": "code",
   "execution_count": 6,
   "metadata": {},
   "outputs": [
    {
     "name": "stdout",
     "output_type": "stream",
     "text": [
      "[-2.81602302 -0.66913297  0.40823291]\n"
     ]
    }
   ],
   "source": [
    "# Calculamos las raices del polinomio\n",
    "raices = sp.roots(polinomio)\n",
    "print(raices)"
   ]
  },
  {
   "cell_type": "code",
   "execution_count": 7,
   "metadata": {},
   "outputs": [
    {
     "name": "stdout",
     "output_type": "stream",
     "text": [
      "Las raices son -2.82, -0.67, 0.41. \n"
     ]
    }
   ],
   "source": [
    "# Evaluamos el polinomio en las raices\n",
    "s = sp.polyval(polinomio,raices)\n",
    "\n",
    "# Las presentamos en pantalla\n",
    "print (\"Las raices son %2.2f, %2.2f, %2.2f. \" % (raices[0], raices[1], raices[2]))"
   ]
  },
  {
   "cell_type": "code",
   "execution_count": 12,
   "metadata": {},
   "outputs": [
    {
     "name": "stdout",
     "output_type": "stream",
     "text": [
      "[1, 2, -8]\n",
      "[-14 -13 -12 -11 -10  -9  -8  -7  -6  -5  -4  -3  -2  -1   0   1   2   3\n",
      "   4   5   6   7   8   9]\n"
     ]
    }
   ],
   "source": [
    "polinomio = [1,2,-8]   # polinomio = 1.3 x^3 + 4 x^2 + 0.6 x - 1\n",
    "x = sp.arange(-14,10,1)\n",
    "print(polinomio)\n",
    "print(x)"
   ]
  },
  {
   "cell_type": "code",
   "execution_count": 13,
   "metadata": {},
   "outputs": [],
   "source": [
    "y = sp.polyval(polinomio,x)\n"
   ]
  },
  {
   "cell_type": "code",
   "execution_count": 14,
   "metadata": {},
   "outputs": [
    {
     "name": "stdout",
     "output_type": "stream",
     "text": [
      "[-4.  2.]\n"
     ]
    }
   ],
   "source": [
    "raices = sp.roots(polinomio)\n",
    "print(raices)"
   ]
  },
  {
   "cell_type": "code",
   "execution_count": null,
   "metadata": {},
   "outputs": [],
   "source": []
  }
 ],
 "metadata": {
  "kernelspec": {
   "display_name": "Python 2",
   "language": "python",
   "name": "python2"
  },
  "language_info": {
   "codemirror_mode": {
    "name": "ipython",
    "version": 2
   },
   "file_extension": ".py",
   "mimetype": "text/x-python",
   "name": "python",
   "nbconvert_exporter": "python",
   "pygments_lexer": "ipython2",
   "version": "2.7.12"
  }
 },
 "nbformat": 4,
 "nbformat_minor": 1
}
